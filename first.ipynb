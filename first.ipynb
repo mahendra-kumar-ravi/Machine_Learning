{
 "cells": [
  {
   "cell_type": "markdown",
   "id": "3b5296ba",
   "metadata": {},
   "source": [
    "## Downloading the dataset \n"
   ]
  },
  {
   "cell_type": "code",
   "execution_count": null,
   "id": "1edb9670",
   "metadata": {
    "vscode": {
     "languageId": "plaintext"
    }
   },
   "outputs": [],
   "source": []
  }
 ],
 "metadata": {
  "language_info": {
   "name": "python"
  }
 },
 "nbformat": 4,
 "nbformat_minor": 5
}
